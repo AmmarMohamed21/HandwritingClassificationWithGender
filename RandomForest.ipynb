{
 "cells": [
  {
   "cell_type": "code",
   "execution_count": 109,
   "metadata": {},
   "outputs": [],
   "source": [
    "import pandas as pd\n",
    "import numpy as np\n",
    "from sklearn.model_selection import train_test_split\n",
    "from sklearn.preprocessing import StandardScaler\n",
    "from sklearn.ensemble import RandomForestClassifier \n",
    "from sklearn import metrics\n",
    "from sklearn.metrics import classification_report, confusion_matrix, accuracy_score"
   ]
  },
  {
   "cell_type": "code",
   "execution_count": 110,
   "metadata": {},
   "outputs": [
    {
     "data": {
      "text/html": [
       "<div>\n",
       "<style scoped>\n",
       "    .dataframe tbody tr th:only-of-type {\n",
       "        vertical-align: middle;\n",
       "    }\n",
       "\n",
       "    .dataframe tbody tr th {\n",
       "        vertical-align: top;\n",
       "    }\n",
       "\n",
       "    .dataframe thead th {\n",
       "        text-align: right;\n",
       "    }\n",
       "</style>\n",
       "<table border=\"1\" class=\"dataframe\">\n",
       "  <thead>\n",
       "    <tr style=\"text-align: right;\">\n",
       "      <th></th>\n",
       "      <th>Unnamed: 0</th>\n",
       "      <th>Gender</th>\n",
       "      <th>COLD_0</th>\n",
       "      <th>COLD_1</th>\n",
       "      <th>COLD_2</th>\n",
       "      <th>COLD_3</th>\n",
       "      <th>COLD_4</th>\n",
       "      <th>COLD_5</th>\n",
       "      <th>COLD_6</th>\n",
       "      <th>COLD_7</th>\n",
       "      <th>...</th>\n",
       "      <th>HOG_121</th>\n",
       "      <th>HOG_123</th>\n",
       "      <th>HOG_126</th>\n",
       "      <th>HOG_128</th>\n",
       "      <th>HOG_130</th>\n",
       "      <th>HOG_132</th>\n",
       "      <th>HOG_135</th>\n",
       "      <th>HOG_137</th>\n",
       "      <th>HOG_139</th>\n",
       "      <th>HOG_141</th>\n",
       "    </tr>\n",
       "  </thead>\n",
       "  <tbody>\n",
       "    <tr>\n",
       "      <th>0</th>\n",
       "      <td>0</td>\n",
       "      <td>1</td>\n",
       "      <td>-0.085946</td>\n",
       "      <td>-0.237693</td>\n",
       "      <td>-0.367306</td>\n",
       "      <td>-0.460581</td>\n",
       "      <td>0.712268</td>\n",
       "      <td>0.274045</td>\n",
       "      <td>0.437824</td>\n",
       "      <td>-0.518291</td>\n",
       "      <td>...</td>\n",
       "      <td>0.789985</td>\n",
       "      <td>0.181226</td>\n",
       "      <td>0.694195</td>\n",
       "      <td>1.246578</td>\n",
       "      <td>0.655288</td>\n",
       "      <td>0.028839</td>\n",
       "      <td>0.684538</td>\n",
       "      <td>-0.382279</td>\n",
       "      <td>0.680669</td>\n",
       "      <td>-0.196893</td>\n",
       "    </tr>\n",
       "    <tr>\n",
       "      <th>1</th>\n",
       "      <td>1</td>\n",
       "      <td>1</td>\n",
       "      <td>-0.085946</td>\n",
       "      <td>-0.237693</td>\n",
       "      <td>-0.367306</td>\n",
       "      <td>-0.460581</td>\n",
       "      <td>5.342656</td>\n",
       "      <td>0.274045</td>\n",
       "      <td>1.526912</td>\n",
       "      <td>-0.518291</td>\n",
       "      <td>...</td>\n",
       "      <td>0.911642</td>\n",
       "      <td>3.341315</td>\n",
       "      <td>-4.946309</td>\n",
       "      <td>-0.771359</td>\n",
       "      <td>-2.815925</td>\n",
       "      <td>-0.766944</td>\n",
       "      <td>-2.501211</td>\n",
       "      <td>-0.665417</td>\n",
       "      <td>0.883621</td>\n",
       "      <td>-0.665699</td>\n",
       "    </tr>\n",
       "    <tr>\n",
       "      <th>2</th>\n",
       "      <td>2</td>\n",
       "      <td>1</td>\n",
       "      <td>-0.085946</td>\n",
       "      <td>-0.237693</td>\n",
       "      <td>-0.367306</td>\n",
       "      <td>-0.460581</td>\n",
       "      <td>-0.059463</td>\n",
       "      <td>2.902238</td>\n",
       "      <td>-0.651264</td>\n",
       "      <td>0.647132</td>\n",
       "      <td>...</td>\n",
       "      <td>-0.093178</td>\n",
       "      <td>4.591927</td>\n",
       "      <td>-1.568916</td>\n",
       "      <td>1.356511</td>\n",
       "      <td>-0.680013</td>\n",
       "      <td>0.192068</td>\n",
       "      <td>-0.517438</td>\n",
       "      <td>0.607286</td>\n",
       "      <td>-0.792649</td>\n",
       "      <td>0.098576</td>\n",
       "    </tr>\n",
       "    <tr>\n",
       "      <th>3</th>\n",
       "      <td>3</td>\n",
       "      <td>1</td>\n",
       "      <td>-0.085946</td>\n",
       "      <td>-0.237693</td>\n",
       "      <td>-0.367306</td>\n",
       "      <td>-0.460581</td>\n",
       "      <td>-0.831195</td>\n",
       "      <td>2.245190</td>\n",
       "      <td>0.437824</td>\n",
       "      <td>-0.518291</td>\n",
       "      <td>...</td>\n",
       "      <td>0.138193</td>\n",
       "      <td>1.138429</td>\n",
       "      <td>-0.140118</td>\n",
       "      <td>-0.589161</td>\n",
       "      <td>-0.330191</td>\n",
       "      <td>-0.407692</td>\n",
       "      <td>-0.189009</td>\n",
       "      <td>-0.783772</td>\n",
       "      <td>-0.406669</td>\n",
       "      <td>-0.429159</td>\n",
       "    </tr>\n",
       "    <tr>\n",
       "      <th>4</th>\n",
       "      <td>4</td>\n",
       "      <td>1</td>\n",
       "      <td>-0.085946</td>\n",
       "      <td>2.999631</td>\n",
       "      <td>-0.367306</td>\n",
       "      <td>-0.460581</td>\n",
       "      <td>-0.059463</td>\n",
       "      <td>0.931093</td>\n",
       "      <td>-0.651264</td>\n",
       "      <td>-0.518291</td>\n",
       "      <td>...</td>\n",
       "      <td>0.156020</td>\n",
       "      <td>-0.464249</td>\n",
       "      <td>-0.117299</td>\n",
       "      <td>0.487851</td>\n",
       "      <td>-0.303238</td>\n",
       "      <td>-0.428370</td>\n",
       "      <td>-0.165117</td>\n",
       "      <td>1.493820</td>\n",
       "      <td>-0.376930</td>\n",
       "      <td>-0.118380</td>\n",
       "    </tr>\n",
       "  </tbody>\n",
       "</table>\n",
       "<p>5 rows × 357 columns</p>\n",
       "</div>"
      ],
      "text/plain": [
       "   Unnamed: 0  Gender    COLD_0    COLD_1    COLD_2    COLD_3    COLD_4  \\\n",
       "0           0       1 -0.085946 -0.237693 -0.367306 -0.460581  0.712268   \n",
       "1           1       1 -0.085946 -0.237693 -0.367306 -0.460581  5.342656   \n",
       "2           2       1 -0.085946 -0.237693 -0.367306 -0.460581 -0.059463   \n",
       "3           3       1 -0.085946 -0.237693 -0.367306 -0.460581 -0.831195   \n",
       "4           4       1 -0.085946  2.999631 -0.367306 -0.460581 -0.059463   \n",
       "\n",
       "     COLD_5    COLD_6    COLD_7  ...   HOG_121   HOG_123   HOG_126   HOG_128  \\\n",
       "0  0.274045  0.437824 -0.518291  ...  0.789985  0.181226  0.694195  1.246578   \n",
       "1  0.274045  1.526912 -0.518291  ...  0.911642  3.341315 -4.946309 -0.771359   \n",
       "2  2.902238 -0.651264  0.647132  ... -0.093178  4.591927 -1.568916  1.356511   \n",
       "3  2.245190  0.437824 -0.518291  ...  0.138193  1.138429 -0.140118 -0.589161   \n",
       "4  0.931093 -0.651264 -0.518291  ...  0.156020 -0.464249 -0.117299  0.487851   \n",
       "\n",
       "    HOG_130   HOG_132   HOG_135   HOG_137   HOG_139   HOG_141  \n",
       "0  0.655288  0.028839  0.684538 -0.382279  0.680669 -0.196893  \n",
       "1 -2.815925 -0.766944 -2.501211 -0.665417  0.883621 -0.665699  \n",
       "2 -0.680013  0.192068 -0.517438  0.607286 -0.792649  0.098576  \n",
       "3 -0.330191 -0.407692 -0.189009 -0.783772 -0.406669 -0.429159  \n",
       "4 -0.303238 -0.428370 -0.165117  1.493820 -0.376930 -0.118380  \n",
       "\n",
       "[5 rows x 357 columns]"
      ]
     },
     "execution_count": 110,
     "metadata": {},
     "output_type": "execute_result"
    }
   ],
   "source": [
    "dataset = pd.read_csv('./Normalized.csv')\n",
    "dataset.head()"
   ]
  },
  {
   "cell_type": "code",
   "execution_count": 111,
   "metadata": {},
   "outputs": [
    {
     "name": "stdout",
     "output_type": "stream",
     "text": [
      "0.0379703\n"
     ]
    }
   ],
   "source": [
    "X = dataset.iloc[:, 2:293].values\n",
    "y = dataset.iloc[:, 1].values\n",
    "print(X[0][-1])"
   ]
  },
  {
   "cell_type": "code",
   "execution_count": 112,
   "metadata": {},
   "outputs": [],
   "source": [
    "X_train, X_test, y_train, y_test = train_test_split(X, y, test_size=0.4, random_state=0)\n",
    "\n",
    "X_test2 , x_cross_validation,y_test2,y_cross_validation = train_test_split(X_test, y_test, test_size=0.5, random_state=0)"
   ]
  },
  {
   "cell_type": "code",
   "execution_count": 113,
   "metadata": {},
   "outputs": [],
   "source": [
    "sc = StandardScaler()\n",
    "X_train = sc.fit_transform(X_train)\n",
    "X_test = sc.transform(X_test)"
   ]
  },
  {
   "cell_type": "code",
   "execution_count": null,
   "metadata": {},
   "outputs": [],
   "source": [
    "# cross validation set(to determine the parameters)\n",
    "Accuracy = 0\n",
    "estimator = 0\n",
    "for i in range(1,300):\n",
    "    regressor = RandomForestClassifier(n_estimators=i, random_state=0)\n",
    "    regressor.fit(X_train, y_train)\n",
    "    y_pred = regressor.predict(x_cross_validation)\n",
    "    new_accuracy = round(accuracy_score(y_cross_validation, y_pred) * 100,2)\n",
    "    if Accuracy < new_accuracy :\n",
    "        Accuracy = new_accuracy\n",
    "        estimator = i\n",
    "\n",
    "print(estimator)\n",
    "print(Accuracy)"
   ]
  },
  {
   "cell_type": "code",
   "execution_count": 114,
   "metadata": {},
   "outputs": [],
   "source": [
    "regressor = RandomForestClassifier(n_estimators=estimator, random_state=0)\n",
    "regressor.fit(X_train, y_train)\n",
    "y_pred = regressor.predict(X_test2)"
   ]
  },
  {
   "cell_type": "code",
   "execution_count": 115,
   "metadata": {},
   "outputs": [],
   "source": [
    "with open(\"results.txt\", \"w\") as o:\n",
    "    for pred in y_pred :\n",
    "        o.write(str(pred) + \"\\n\")\n",
    "    "
   ]
  },
  {
   "cell_type": "code",
   "execution_count": 116,
   "metadata": {},
   "outputs": [
    {
     "name": "stdout",
     "output_type": "stream",
     "text": [
      "              precision    recall  f1-score   support\n",
      "\n",
      "           0       0.69      0.55      0.61       307\n",
      "           1       0.71      0.81      0.76       409\n",
      "\n",
      "    accuracy                           0.70       716\n",
      "   macro avg       0.70      0.68      0.69       716\n",
      "weighted avg       0.70      0.70      0.70       716\n",
      "\n",
      "Accuracy = 70.25%\n"
     ]
    }
   ],
   "source": [
    "print(classification_report(y_test2,y_pred))\n",
    "print(\"Accuracy = \" + str(round(accuracy_score(y_test2, y_pred) * 100,2))+ \"%\")"
   ]
  }
 ],
 "metadata": {
  "interpreter": {
   "hash": "d068e124087f7fc79af8660c5ee10833332dec41de1db6fdac32ba4737587154"
  },
  "kernelspec": {
   "display_name": "Python 3.9.7 ('base')",
   "language": "python",
   "name": "python3"
  },
  "language_info": {
   "codemirror_mode": {
    "name": "ipython",
    "version": 3
   },
   "file_extension": ".py",
   "mimetype": "text/x-python",
   "name": "python",
   "nbconvert_exporter": "python",
   "pygments_lexer": "ipython3",
   "version": "3.9.7"
  },
  "orig_nbformat": 4
 },
 "nbformat": 4,
 "nbformat_minor": 2
}
