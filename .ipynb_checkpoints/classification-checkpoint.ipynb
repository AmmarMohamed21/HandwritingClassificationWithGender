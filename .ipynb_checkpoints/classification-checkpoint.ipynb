{
 "cells": [
  {
   "cell_type": "code",
   "execution_count": 4,
   "id": "82efa182",
   "metadata": {},
   "outputs": [],
   "source": [
    "import numpy as np\n",
    "import csv\n",
    "from numpy import choose\n",
    "from sklearn import svm\n",
    "from sklearn.model_selection import train_test_split\n",
    "from sklearn import neighbors\n",
    "import time"
   ]
  },
  {
   "cell_type": "code",
   "execution_count": 7,
   "id": "cb62aba2",
   "metadata": {},
   "outputs": [],
   "source": [
    "#choose: 0 for svm 1 for knn\n",
    "#argument: if svm then c as integer if knn then choose k as an integer\n",
    "#return Classifier with fit data to predict new ones\n",
    "def classify(x_train,y_train,choose,argument):\n",
    "    if(choose==0):\n",
    "        Classifier = svm.SVC(C=argument,kernel='rbf')\n",
    "    elif(choose==1):\n",
    "        Classifier = neighbors.KNeighborsClassifier(n_neighbors=argument)\n",
    "    else:\n",
    "        print(choose,' not available choice')\n",
    "        return\n",
    "    Classifier.fit(x_train,y_train)\n",
    "    return Classifier\n"
   ]
  },
  {
   "cell_type": "code",
   "execution_count": 8,
   "id": "5cc16032",
   "metadata": {},
   "outputs": [],
   "source": [
    "#return accuracy of Classifier\n",
    "def test(Classifier,X_test,y_test):\n",
    "    y_pred = Classifier.predict(X_test)\n",
    "    #print(y_pred)\n",
    "    #print('Train Accuracy: {:.2f} %'.format(np.mean(y_pred == y_test) * 100))\n",
    "    return np.mean(y_pred == y_test)*100"
   ]
  },
  {
   "cell_type": "code",
   "execution_count": 9,
   "id": "04513457",
   "metadata": {},
   "outputs": [],
   "source": [
    "#predict the output given dataset print it\n",
    "def predict(Classifier,X_test):\n",
    "    y_pred = Classifier.predict(X_test)\n",
    "    return(y_pred)"
   ]
  },
  {
   "cell_type": "code",
   "execution_count": 154,
   "id": "18fcc7cc",
   "metadata": {},
   "outputs": [],
   "source": [
    "#read file into training, cross validation and test data\n",
    "def read_data_for_test_only(file_name):\n",
    "    \n",
    "    #read file\n",
    "    file = open(file_name)\n",
    "    csvreader = csv.reader(file)\n",
    "    rows = []\n",
    "    for row in csvreader:\n",
    "        rows.append(row)\n",
    "    rows=np.array(rows)\n",
    "    x=rows[1:2800,3:-1].astype(float)\n",
    "    y=rows[1:2800,1].astype(float)\n",
    "    x1=rows[2800:3500,3:-1].astype(float)\n",
    "    y1=rows[2800:3500,1].astype(float)\n",
    "\n",
    "    img_names=rows[2800:3500,2]\n",
    "    # 60% training 20% cross-validation 20% test\n",
    "    X_train, X_test, y_train, y_test = train_test_split(x, y, test_size=0.25,random_state=0)\n",
    "    X_valid, X_test, y_valid, y_test = train_test_split(X_test, y_test, test_size=0.01,random_state=0)\n",
    "    return X_train, X_test,X_valid,y_valid, y_train, y_test,img_names,x1,y1\n"
   ]
  },
  {
   "cell_type": "code",
   "execution_count": 168,
   "id": "099386b8",
   "metadata": {},
   "outputs": [],
   "source": [
    "#read file into training, cross validation and test data\n",
    "def read_data(file_name):\n",
    "    \n",
    "    #read file\n",
    "    file = open(file_name)\n",
    "    csvreader = csv.reader(file)\n",
    "    rows = []\n",
    "    for row in csvreader:\n",
    "        rows.append(row)\n",
    "    rows=np.array(rows)\n",
    "    x=rows[1:,3:-1].astype(float)\n",
    "    y=rows[1:,1].astype(float)\n",
    "    \n",
    "    # 60% training 20% cross-validation 20% test\n",
    "    X_train, X_test, y_train, y_test = train_test_split(x, y, test_size=0.4,random_state=0)\n",
    "    X_valid, X_test, y_valid, y_test = train_test_split(X_test, y_test, test_size=0.5,random_state=0)\n",
    "    return X_train, X_test,X_valid,y_valid, y_train, y_test"
   ]
  },
  {
   "cell_type": "code",
   "execution_count": null,
   "id": "37263088",
   "metadata": {},
   "outputs": [],
   "source": []
  },
  {
   "cell_type": "code",
   "execution_count": 155,
   "id": "9696368b",
   "metadata": {},
   "outputs": [],
   "source": [
    "x_train, x_test,x_valid,y_valid, y_train, y_test,img_names,x,y=read_data_for_test_only('dataset.csv')"
   ]
  },
  {
   "cell_type": "code",
   "execution_count": 170,
   "id": "7662bb63",
   "metadata": {},
   "outputs": [],
   "source": [
    "#read file dataset.csv\n",
    "x_train, x_test,x_valid,y_valid, y_train, y_test=read_data('dataset.csv')"
   ]
  },
  {
   "cell_type": "code",
   "execution_count": 171,
   "id": "1f34c6da",
   "metadata": {},
   "outputs": [
    {
     "name": "stdout",
     "output_type": "stream",
     "text": [
      "output with svm with rbf kernel\n",
      "running time =  75.47949504852295 sec\n",
      "regularization parameter = 2.7\n",
      "accuracy = 72.62569832402235 %\n"
     ]
    }
   ],
   "source": [
    "#run svm\n",
    "print('output with svm with rbf kernel')\n",
    "starttime=time.time()\n",
    "accuracies=[]\n",
    "cs=np.arange(0.1,5.1,0.1)\n",
    "for i in cs:\n",
    "    Classifier=classify(x_train,y_train,0,i)\n",
    "    accuracies.append(test(Classifier,x_valid,y_valid))\n",
    "c=cs[accuracies.index(max(accuracies))]\n",
    "\n",
    "Classifier1=classify(x_train,y_train,0,c)\n",
    "print('running time = ',time.time()-starttime,'sec')\n",
    "print('regularization parameter =',c)\n",
    "print('accuracy =',test(Classifier1,x_valid,y_valid), '%')\n"
   ]
  },
  {
   "cell_type": "code",
   "execution_count": 172,
   "id": "b2a376a5",
   "metadata": {},
   "outputs": [
    {
     "name": "stdout",
     "output_type": "stream",
     "text": [
      "output with knn\n",
      "running time = 17.477922439575195 sec\n",
      "k=  95\n",
      "accuracy = 68.57541899441341 %\n"
     ]
    }
   ],
   "source": [
    "#run knn\n",
    "print('output with knn')\n",
    "\n",
    "starttime=time.time()\n",
    "accuracies=[]\n",
    "ks=np.arange(10,201)\n",
    "for i in ks:\n",
    "    Classifier=classify(x_train,y_train,1,i)\n",
    "    accuracies.append(test(Classifier,x_valid,y_valid))\n",
    "k=ks[accuracies.index(max(accuracies))]\n",
    "Classifier2=classify(x_train,y_train,1,k)\n",
    "print('running time =',time.time()-starttime,'sec')\n",
    "print('k= ',k)\n",
    "print('accuracy =',test(Classifier2,x_valid,y_valid),'%')\n"
   ]
  },
  {
   "cell_type": "code",
   "execution_count": 166,
   "id": "be59ec68",
   "metadata": {
    "scrolled": true
   },
   "outputs": [],
   "source": [
    "def predictmulti(C,x_test,y1):\n",
    "    numoflines={}\n",
    "    y_temp=[]\n",
    "    \n",
    "    for i in img_names:\n",
    "        numoflines[i]=0\n",
    "\n",
    "\n",
    "    for i in img_names:\n",
    "        numoflines[i]+=1\n",
    "    s=0\n",
    "    results=[]\n",
    "    times=[]\n",
    "    for i in numoflines.values():\n",
    "        starttime=time.time()\n",
    "        y_pred=predict(C,x_test[s:i+s])\n",
    "        y_temp.append(y1[s])\n",
    "        times.append(time.time()-starttime)\n",
    "        s=i\n",
    "        results.append(int(np.round(np.mean(y_pred))))\n",
    "    \n",
    "    y_temp=np.array(y_temp).astype('int')\n",
    "    f = open(\"result.txt\", \"w\")\n",
    "    f2=open(\"time.txt\",\"w\")\n",
    "    for i in results:\n",
    "        f.write(str(i))\n",
    "        f.write('\\n')\n",
    "    f.close()\n",
    "    for i in times:\n",
    "        f2.write(str(i))\n",
    "        f2.write('\\n')\n",
    "    f2.close()\n",
    "    print(np.mean(y_temp==results)*100)"
   ]
  },
  {
   "cell_type": "code",
   "execution_count": 167,
   "id": "1256049e",
   "metadata": {
    "scrolled": false
   },
   "outputs": [
    {
     "name": "stdout",
     "output_type": "stream",
     "text": [
      "['45cmpm' '46cmpm' '46cmpm' '46cmpm' '46cmpm' '46cmpm' '48cmpm' '48cmpm'\n",
      " '49cmpm' '4cmpm' '4cmpm' '4cmpm' '50cmpm' '50cmpm' '50cmpm' '50cmpm'\n",
      " '50cmpm' '50cmpm' '52cmpm' '52cmpm' '52cmpm' '53cmpm' '53cmpm' '53cmpm'\n",
      " '53cmpm' '53cmpm' '53cmpm' '53cmpm' '53cmpm' '53cmpm' '53cmpm' '53cmpm'\n",
      " '54cmpm' '54cmpm' '54cmpm' '55cmpm' '55cmpm' '55cmpm' '56cmpm' '56cmpm'\n",
      " '56cmpm' '56cmpm' '56cmpm' '56cmpm' '56cmpm' '56cmpm' '56cmpm' '56cmpm'\n",
      " '57cmpm' '57cmpm' '57cmpm' '57cmpm' '57cmpm' '57cmpm' '57cmpm' '57cmpm'\n",
      " '57cmpm' '57cmpm' '58cmpm' '58cmpm' '58cmpm' '58cmpm' '59cmpm' '59cmpm'\n",
      " '59cmpm' '59cmpm' '5cmpm' '5cmpm' '5cmpm' '5cmpm' '5cmpm' '5cmpm' '5cmpm'\n",
      " '5cmpm' '5cmpm' '5cmpm' '5cmpm' '5cmpm' '5cmpm' '5cmpm' '60cmpm' '60cmpm'\n",
      " '60cmpm' '60cmpm' '60cmpm' '60cmpm' '61cmpm' '61cmpm' '61cmpm' '61cmpm'\n",
      " '61cmpm' '62cmpm' '62cmpm' '62cmpm' '62cmpm' '62cmpm' '63cmpm' '63cmpm'\n",
      " '63cmpm' '63cmpm' '63cmpm' '63cmpm' '63cmpm' '63cmpm' '63cmpm' '63cmpm'\n",
      " '63cmpm' '63cmpm' '64cmpm' '64cmpm' '65cmpm' '65cmpm' '65cmpm' '65cmpm'\n",
      " '65cmpm' '65cmpm' '65cmpm' '65cmpm' '65cmpm' '65cmpm' '65cmpm' '65cmpm'\n",
      " '65cmpm' '67cmpm' '67cmpm' '67cmpm' '67cmpm' '67cmpm' '68cmpm' '69cmpm'\n",
      " '69cmpm' '69cmpm' '69cmpm' '69cmpm' '69cmpm' '69cmpm' '69cmpm' '6cmpm'\n",
      " '6cmpm' '6cmpm' '6cmpm' '6cmpm' '6cmpm' '6cmpm' '70cmpm' '71cmpm'\n",
      " '71cmpm' '71cmpm' '71cmpm' '71cmpm' '71cmpm' '71cmpm' '72cmpm' '72cmpm'\n",
      " '72cmpm' '73cmpm' '73cmpm' '73cmpm' '73cmpm' '73cmpm' '73cmpm' '74cmpm'\n",
      " '74cmpm' '74cmpm' '74cmpm' '74cmpm' '74cmpm' '75cmpm' '75cmpm' '75cmpm'\n",
      " '75cmpm' '75cmpm' '76cmpm' '76cmpm' '76cmpm' '76cmpm' '76cmpm' '76cmpm'\n",
      " '77cmpm' '77cmpm' '78cmpm' '78cmpm' '78cmpm' '78cmpm' '78cmpm' '78cmpm'\n",
      " '78cmpm' '79cmpm' '79cmpm' '79cmpm' '79cmpm' '79cmpm' '79cmpm' '79cmpm'\n",
      " '79cmpm' '79cmpm' '7cmpm' '7cmpm' '7cmpm' '80cmpm' '80cmpm' '80cmpm'\n",
      " '80cmpm' '80cmpm' '80cmpm' '80cmpm' '80cmpm' '80cmpm' '81cmpm' '81cmpm'\n",
      " '81cmpm' '82cmpm' '82cmpm' '82cmpm' '82cmpm' '82cmpm' '83cmpm' '83cmpm'\n",
      " '83cmpm' '83cmpm' '83cmpm' '83cmpm' '83cmpm' '84cmpm' '84cmpm' '84cmpm'\n",
      " '85cmpm' '85cmpm' '85cmpm' '86cmpm' '86cmpm' '86cmpm' '86cmpm' '86cmpm'\n",
      " '86cmpm' '87cmpm' '87cmpm' '87cmpm' '87cmpm' '87cmpm' '87cmpm' '88cmpm'\n",
      " '88cmpm' '88cmpm' '88cmpm' '88cmpm' '88cmpm' '88cmpm' '89cmpm' '8cmpm'\n",
      " '8cmpm' '8cmpm' '8cmpm' '8cmpm' '8cmpm' '8cmpm' '90cmpm' '90cmpm'\n",
      " '91cmpm' '91cmpm' '91cmpm' '91cmpm' '92cmpm' '92cmpm' '92cmpm' '93cmpm'\n",
      " '93cmpm' '94cmpm' '94cmpm' '94cmpm' '94cmpm' '95cmpm' '95cmpm' '95cmpm'\n",
      " '95cmpm' '95cmpm' '95cmpm' '95cmpm' '95cmpm' '97cmpm' '97cmpm' '98cmpm'\n",
      " '98cmpm' '99cmpm' '9cmpm' '9cmpm' '100cmpf' '101cmpf' '101cmpf' '101cmpf'\n",
      " '101cmpf' '101cmpf' '101cmpf' '101cmpf' '101cmpf' '101cmpf' '101cmpf'\n",
      " '101cmpf' '101cmpf' '101cmpf' '101cmpf' '101cmpf' '101cmpf' '102cmpf'\n",
      " '102cmpf' '102cmpf' '102cmpf' '103cmpf' '103cmpf' '103cmpf' '103cmpf'\n",
      " '103cmpf' '103cmpf' '103cmpf' '103cmpf' '103cmpf' '104cmpf' '104cmpf'\n",
      " '104cmpf' '104cmpf' '104cmpf' '104cmpf' '104cmpf' '104cmpf' '104cmpf'\n",
      " '105cmpf' '105cmpf' '106cmpf' '106cmpf' '107cmpf' '107cmpf' '107cmpf'\n",
      " '107cmpf' '107cmpf' '107cmpf' '108cmpf' '108cmpf' '109cmpf' '10cmpf'\n",
      " '110cmpf' '110cmpf' '110cmpf' '111cmpf' '111cmpf' '111cmpf' '111cmpf'\n",
      " '111cmpf' '111cmpf' '112cmpf' '112cmpf' '113cmpf' '113cmpf' '113cmpf'\n",
      " '113cmpf' '113cmpf' '113cmpf' '114cmpf' '114cmpf' '115cmpf' '115cmpf'\n",
      " '115cmpf' '115cmpf' '115cmpf' '116cmpf' '116cmpf' '117cmpf' '117cmpf'\n",
      " '117cmpf' '117cmpf' '119cmpf' '119cmpf' '119cmpf' '119cmpf' '119cmpf'\n",
      " '119cmpf' '119cmpf' '119cmpf' '11cmpf' '11cmpf' '11cmpf' '11cmpf'\n",
      " '11cmpf' '121cmpf' '122cmpf' '123cmpf' '123cmpf' '123cmpf' '123cmpf'\n",
      " '123cmpf' '123cmpf' '123cmpf' '123cmpf' '123cmpf' '124cmpf' '124cmpf'\n",
      " '124cmpf' '125cmpf' '125cmpf' '125cmpf' '125cmpf' '125cmpf' '126cmpf'\n",
      " '126cmpf' '127cmpf' '127cmpf' '128cmpf' '128cmpf' '128cmpf' '129cmpf'\n",
      " '129cmpf' '129cmpf' '129cmpf' '129cmpf' '129cmpf' '12cmpf' '130cmpf'\n",
      " '130cmpf' '130cmpf' '131cmpf' '14cmpf' '14cmpf' '14cmpf' '14cmpf'\n",
      " '14cmpf' '15cmpf' '16cmpf' '16cmpf' '16cmpf' '16cmpf' '16cmpf' '16cmpf'\n",
      " '16cmpf' '16cmpf' '17cmpf' '17cmpf' '17cmpf' '17cmpf' '17cmpf' '17cmpf'\n",
      " '17cmpf' '18cmpf' '18cmpf' '18cmpf' '18cmpf' '19cmpf' '19cmpf' '1cmpf'\n",
      " '1cmpf' '1cmpf' '1cmpf' '20cmpf' '20cmpf' '21cmpf' '23cmpf' '23cmpf'\n",
      " '23cmpf' '23cmpf' '23cmpf' '23cmpf' '23cmpf' '23cmpf' '23cmpf' '23cmpf'\n",
      " '23cmpf' '23cmpf' '25cmpf' '26cmpf' '26cmpf' '26cmpf' '26cmpf' '26cmpf'\n",
      " '26cmpf' '26cmpf' '26cmpf' '27cmpf' '27cmpf' '27cmpf' '27cmpf' '27cmpf'\n",
      " '28cmpf' '28cmpf' '28cmpf' '29cmpf' '29cmpf' '29cmpf' '29cmpf' '2cmpf'\n",
      " '2cmpf' '2cmpf' '2cmpf' '2cmpf' '2cmpf' '2cmpf' '30cmpf' '30cmpf'\n",
      " '30cmpf' '30cmpf' '30cmpf' '32cmpf' '32cmpf' '32cmpf' '32cmpf' '32cmpf'\n",
      " '33cmpf' '34cmpf' '34cmpf' '34cmpf' '34cmpf' '35cmpf' '36cmpf' '37cmpf'\n",
      " '37cmpf' '37cmpf' '38cmpf' '38cmpf' '38cmpf' '38cmpf' '38cmpf' '38cmpf'\n",
      " '38cmpf' '38cmpf' '38cmpf' '38cmpf' '38cmpf' '38cmpf' '38cmpf' '39cmpf'\n",
      " '3cmpf' '3cmpf' '3cmpf' '40cmpf' '40cmpf' '40cmpf' '40cmpf' '40cmpf'\n",
      " '40cmpf' '40cmpf' '40cmpf' '40cmpf' '41cmpf' '42cmpf' '42cmpf' '42cmpf'\n",
      " '42cmpf' '42cmpf' '43cmpf' '43cmpf' '43cmpf' '43cmpf' '43cmpf' '43cmpf'\n",
      " '43cmpf' '44cmpf' '44cmpf' '44cmpf' '44cmpf' '44cmpf' '44cmpf' '44cmpf'\n",
      " '44cmpf' '44cmpf' '44cmpf' '45cmpf' '45cmpf' '45cmpf' '45cmpf' '45cmpf'\n",
      " '45cmpf' '45cmpf' '45cmpf' '45cmpf' '47cmpf' '47cmpf' '47cmpf' '47cmpf'\n",
      " '47cmpf' '49cmpf' '49cmpf' '49cmpf' '49cmpf' '49cmpf' '49cmpf' '49cmpf'\n",
      " '49cmpf' '4cmpf' '4cmpf' '4cmpf' '4cmpf' '4cmpf' '4cmpf' '4cmpf' '4cmpf'\n",
      " '4cmpf' '50cmpf' '50cmpf' '50cmpf' '50cmpf' '50cmpf' '51cmpf' '51cmpf'\n",
      " '51cmpf' '51cmpf' '51cmpf' '52cmpf' '52cmpf' '52cmpf' '52cmpf' '53cmpf'\n",
      " '53cmpf' '53cmpf' '53cmpf' '53cmpf' '53cmpf' '53cmpf' '53cmpf' '53cmpf'\n",
      " '53cmpf' '54cmpf' '55cmpf' '56cmpf' '57cmpf' '57cmpf' '57cmpf' '57cmpf'\n",
      " '57cmpf' '57cmpf' '57cmpf' '57cmpf' '58cmpf' '58cmpf' '5cmpf' '60cmpf'\n",
      " '60cmpf' '60cmpf' '60cmpf' '60cmpf' '60cmpf' '60cmpf' '62cmpf' '62cmpf'\n",
      " '62cmpf' '63cmpf' '63cmpf' '63cmpf' '63cmpf' '64cmpf' '64cmpf' '64cmpf'\n",
      " '65cmpf' '65cmpf' '65cmpf' '65cmpf' '65cmpf' '65cmpf' '67cmpf' '67cmpf'\n",
      " '67cmpf' '67cmpf' '67cmpf' '67cmpf' '68cmpf' '68cmpf' '68cmpf' '69cmpf'\n",
      " '69cmpf' '69cmpf' '69cmpf' '69cmpf' '69cmpf' '69cmpf' '6cmpf' '6cmpf'\n",
      " '6cmpf' '6cmpf' '6cmpf' '6cmpf' '6cmpf' '70cmpf' '70cmpf' '70cmpf'\n",
      " '70cmpf' '70cmpf' '70cmpf' '70cmpf' '70cmpf' '70cmpf' '71cmpf' '72cmpf'\n",
      " '75cmpf' '75cmpf' '76cmpf' '76cmpf' '76cmpf' '76cmpf' '76cmpf' '76cmpf'\n",
      " '76cmpf' '76cmpf' '76cmpf' '76cmpf']\n",
      "[1. 1. 1. 1. 1. 1. 1. 1. 1. 1. 1. 1. 1. 1. 1. 1. 1. 1. 1. 1. 1. 1. 1. 1.\n",
      " 1. 1. 1. 1. 1. 1. 1. 1. 1. 1. 1. 1. 1. 1. 1. 1. 1. 1. 1. 1. 1. 1. 1. 1.\n",
      " 1. 1. 1. 1. 1. 1. 1. 1. 1. 1. 1. 1. 1. 1. 1. 1. 1. 1. 1. 1. 1. 1. 1. 1.\n",
      " 1. 1. 1. 1. 1. 1. 1. 1. 1. 1. 1. 1. 1. 1. 1. 1. 1. 1. 1. 1. 1. 1. 1. 1.\n",
      " 1. 1. 1. 1. 1. 1. 1. 1. 1. 1. 1. 1. 1. 1. 1. 1. 1. 1. 1. 1. 1. 1. 1. 1.\n",
      " 1. 1. 1. 1. 1. 1. 1. 1. 1. 1. 1. 1. 1. 1. 1. 1. 1. 1. 1. 1. 1. 1. 1. 1.\n",
      " 1. 1. 1. 1. 1. 1. 1. 1. 1. 1. 1. 1. 1. 1. 1. 1. 1. 1. 1. 1. 1. 1. 1. 1.\n",
      " 1. 1. 1. 1. 1. 1. 1. 1. 1. 1. 1. 1. 1. 1. 1. 1. 1. 1. 1. 1. 1. 1. 1. 1.\n",
      " 1. 1. 1. 1. 1. 1. 1. 1. 1. 1. 1. 1. 1. 1. 1. 1. 1. 1. 1. 1. 1. 1. 1. 1.\n",
      " 1. 1. 1. 1. 1. 1. 1. 1. 1. 1. 1. 1. 1. 1. 1. 1. 1. 1. 1. 1. 1. 1. 1. 1.\n",
      " 1. 1. 1. 1. 1. 1. 1. 1. 1. 1. 1. 1. 1. 1. 1. 1. 1. 1. 1. 1. 1. 1. 1. 1.\n",
      " 1. 1. 1. 1. 1. 1. 1. 1. 1. 1. 1. 1. 1. 1. 1. 1. 1. 1. 1. 1. 1. 1. 0. 0.\n",
      " 0. 0. 0. 0. 0. 0. 0. 0. 0. 0. 0. 0. 0. 0. 0. 0. 0. 0. 0. 0. 0. 0. 0. 0.\n",
      " 0. 0. 0. 0. 0. 0. 0. 0. 0. 0. 0. 0. 0. 0. 0. 0. 0. 0. 0. 0. 0. 0. 0. 0.\n",
      " 0. 0. 0. 0. 0. 0. 0. 0. 0. 0. 0. 0. 0. 0. 0. 0. 0. 0. 0. 0. 0. 0. 0. 0.\n",
      " 0. 0. 0. 0. 0. 0. 0. 0. 0. 0. 0. 0. 0. 0. 0. 0. 0. 0. 0. 0. 0. 0. 0. 0.\n",
      " 0. 0. 0. 0. 0. 0. 0. 0. 0. 0. 0. 0. 0. 0. 0. 0. 0. 0. 0. 0. 0. 0. 0. 0.\n",
      " 0. 0. 0. 0. 0. 0. 0. 0. 0. 0. 0. 0. 0. 0. 0. 0. 0. 0. 0. 0. 0. 0. 0. 0.\n",
      " 0. 0. 0. 0. 0. 0. 0. 0. 0. 0. 0. 0. 0. 0. 0. 0. 0. 0. 0. 0. 0. 0. 0. 0.\n",
      " 0. 0. 0. 0. 0. 0. 0. 0. 0. 0. 0. 0. 0. 0. 0. 0. 0. 0. 0. 0. 0. 0. 0. 0.\n",
      " 0. 0. 0. 0. 0. 0. 0. 0. 0. 0. 0. 0. 0. 0. 0. 0. 0. 0. 0. 0. 0. 0. 0. 0.\n",
      " 0. 0. 0. 0. 0. 0. 0. 0. 0. 0. 0. 0. 0. 0. 0. 0. 0. 0. 0. 0. 0. 0. 0. 0.\n",
      " 0. 0. 0. 0. 0. 0. 0. 0. 0. 0. 0. 0. 0. 0. 0. 0. 0. 0. 0. 0. 0. 0. 0. 0.\n",
      " 0. 0. 0. 0. 0. 0. 0. 0. 0. 0. 0. 0. 0. 0. 0. 0. 0. 0. 0. 0. 0. 0. 0. 0.\n",
      " 0. 0. 0. 0. 0. 0. 0. 0. 0. 0. 0. 0. 0. 0. 0. 0. 0. 0. 0. 0. 0. 0. 0. 0.\n",
      " 0. 0. 0. 0. 0. 0. 0. 0. 0. 0. 0. 0. 0. 0. 0. 0. 0. 0. 0. 0. 0. 0. 0. 0.\n",
      " 0. 0. 0. 0. 0. 0. 0. 0. 0. 0. 0. 0. 0. 0. 0. 0. 0. 0. 0. 0. 0. 0. 0. 0.\n",
      " 0. 0. 0. 0. 0. 0. 0. 0. 0. 0. 0. 0. 0. 0. 0. 0. 0. 0. 0. 0. 0. 0. 0. 0.\n",
      " 0. 0. 0. 0. 0. 0. 0. 0. 0. 0. 0. 0. 0. 0. 0. 0. 0. 0. 0. 0. 0. 0. 0. 0.\n",
      " 0. 0. 0. 0.]\n"
     ]
    },
    {
     "name": "stdout",
     "output_type": "stream",
     "text": [
      "99.32885906040269\n"
     ]
    }
   ],
   "source": [
    "predictmulti(Classifier1,x,y)"
   ]
  },
  {
   "cell_type": "code",
   "execution_count": 1,
   "id": "2231bb80",
   "metadata": {},
   "outputs": [],
   "source": [
    "def predictforevauation(Classifier1,x_test):\n",
    "    numoflines={}\n",
    "    for i in img_names:\n",
    "        numoflines[i]=0\n",
    "\n",
    "\n",
    "    for i in img_names:\n",
    "        numoflines[i]+=1\n",
    "    s=0\n",
    "    results=[]\n",
    "    times=[]\n",
    "    for i in numoflines.values():\n",
    "        starttime=time.time()\n",
    "        y_pred=predict(Classifier1,x_test[s:i+s])\n",
    "        times.append(time.time()-starttime)\n",
    "        s=i\n",
    "        results.append(int(np.round(np.mean(y_pred))))\n",
    "    \n",
    "    f = open(\"result.txt\", \"w\")\n",
    "    f2=open(\"time.txt\",\"w\")\n",
    "    for i in results:\n",
    "        f.write(str(i))\n",
    "        f.write('\\n')\n",
    "    f.close()\n",
    "    for i in times:\n",
    "        f2.write(str(i))\n",
    "        f2.write('\\n')\n",
    "    f2.close()"
   ]
  },
  {
   "cell_type": "code",
   "execution_count": null,
   "id": "22f511b6",
   "metadata": {},
   "outputs": [],
   "source": []
  },
  {
   "cell_type": "code",
   "execution_count": null,
   "id": "453c24eb",
   "metadata": {},
   "outputs": [],
   "source": []
  }
 ],
 "metadata": {
  "kernelspec": {
   "display_name": "Python 3",
   "language": "python",
   "name": "python3"
  },
  "language_info": {
   "codemirror_mode": {
    "name": "ipython",
    "version": 3
   },
   "file_extension": ".py",
   "mimetype": "text/x-python",
   "name": "python",
   "nbconvert_exporter": "python",
   "pygments_lexer": "ipython3",
   "version": "3.8.8"
  }
 },
 "nbformat": 4,
 "nbformat_minor": 5
}
