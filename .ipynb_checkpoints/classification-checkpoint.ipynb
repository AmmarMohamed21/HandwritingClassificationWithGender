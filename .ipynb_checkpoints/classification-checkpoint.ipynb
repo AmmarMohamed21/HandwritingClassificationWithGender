{
 "cells": [
  {
   "cell_type": "code",
   "execution_count": 2,
   "id": "82efa182",
   "metadata": {},
   "outputs": [],
   "source": [
    "import numpy as np\n",
    "import csv\n",
    "from numpy import choose\n",
    "from sklearn import svm\n",
    "from sklearn.model_selection import train_test_split\n",
    "from sklearn import neighbors\n",
    "import time"
   ]
  },
  {
   "cell_type": "code",
   "execution_count": 3,
   "id": "cb62aba2",
   "metadata": {},
   "outputs": [],
   "source": [
    "#choose: 0 for svm 1 for knn\n",
    "#argument: if svm then c as integer if knn then choose k as an integer\n",
    "#return Classifier with fit data to predict new ones\n",
    "def classify(x_train,y_train,choose,argument):\n",
    "    if(choose==0):\n",
    "        Classifier = svm.SVC(C=argument,kernel='rbf')\n",
    "    elif(choose==1):\n",
    "        Classifier = neighbors.KNeighborsClassifier(n_neighbors=argument)\n",
    "    else:\n",
    "        print(choose,' not available choice')\n",
    "        return\n",
    "    Classifier.fit(x_train,y_train)\n",
    "    return Classifier\n"
   ]
  },
  {
   "cell_type": "code",
   "execution_count": 4,
   "id": "5cc16032",
   "metadata": {},
   "outputs": [],
   "source": [
    "#return accuracy of Classifier\n",
    "def test(Classifier,X_test,y_test):\n",
    "    y_pred = Classifier.predict(X_test)\n",
    "    #print(y_pred)\n",
    "    #print('Train Accuracy: {:.2f} %'.format(np.mean(y_pred == y_test) * 100))\n",
    "    return np.mean(y_pred == y_test)*100"
   ]
  },
  {
   "cell_type": "code",
   "execution_count": 5,
   "id": "04513457",
   "metadata": {},
   "outputs": [],
   "source": [
    "#predict the output given dataset print it\n",
    "def predict(Classifier,X_test):\n",
    "    y_pred = Classifier.predict(X_test)\n",
    "    return(y_pred)"
   ]
  },
  {
   "cell_type": "code",
   "execution_count": 6,
   "id": "18fcc7cc",
   "metadata": {},
   "outputs": [],
   "source": [
    "#read file into training, cross validation and test data\n",
    "def read_data(file_name):\n",
    "    \n",
    "    #read file\n",
    "    file = open(file_name)\n",
    "    csvreader = csv.reader(file)\n",
    "    rows = []\n",
    "    for row in csvreader:\n",
    "        rows.append(row)\n",
    "    rows=np.array(rows)\n",
    "    x=rows[1:,3:-1].astype(float)\n",
    "    y=rows[1:,1].astype(float)\n",
    "    img_names=rows[1:,2]\n",
    "    # 60% training 20% cross-validation 20% test\n",
    "    X_train, X_test, y_train, y_test = train_test_split(x, y, test_size=0.4,random_state=0)\n",
    "    X_valid, X_test, y_valid, y_test = train_test_split(X_test, y_test, test_size=0.5,random_state=0)\n",
    "    _, img_names = train_test_split(img_names,test_size=0.6,random_state=0)\n",
    "    _, img_names = train_test_split(img_names, test_size=0.5,random_state=0)\n",
    "    return X_train, X_test,X_valid,y_valid, y_train, y_test,img_names"
   ]
  },
  {
   "cell_type": "code",
   "execution_count": null,
   "id": "37263088",
   "metadata": {},
   "outputs": [],
   "source": []
  },
  {
   "cell_type": "code",
   "execution_count": 7,
   "id": "9696368b",
   "metadata": {},
   "outputs": [],
   "source": [
    "#read file dataset.csv\n",
    "x_train, x_test,x_valid,y_valid, y_train, y_test,img_names=read_data('dataset.csv')"
   ]
  },
  {
   "cell_type": "code",
   "execution_count": 8,
   "id": "1f34c6da",
   "metadata": {},
   "outputs": [
    {
     "name": "stdout",
     "output_type": "stream",
     "text": [
      "output with svm with rbf kernel\n",
      "running time =  75.80232453346252 sec\n",
      "regularization parameter = 2.7\n",
      "accuracy = 72.62569832402235 %\n"
     ]
    }
   ],
   "source": [
    "#run svm\n",
    "print('output with svm with rbf kernel')\n",
    "starttime=time.time()\n",
    "accuracies=[]\n",
    "cs=np.arange(0.1,5.1,0.1)\n",
    "for i in cs:\n",
    "    Classifier=classify(x_train,y_train,0,i)\n",
    "    accuracies.append(test(Classifier,x_valid,y_valid))\n",
    "c=cs[accuracies.index(max(accuracies))]\n",
    "\n",
    "Classifier1=classify(x_train,y_train,0,c)\n",
    "print('running time = ',time.time()-starttime,'sec')\n",
    "print('regularization parameter =',c)\n",
    "print('accuracy =',test(Classifier1,x_valid,y_valid), '%')\n"
   ]
  },
  {
   "cell_type": "code",
   "execution_count": 9,
   "id": "b2a376a5",
   "metadata": {},
   "outputs": [
    {
     "name": "stdout",
     "output_type": "stream",
     "text": [
      "output with knn\n",
      "running time = 16.544463634490967 sec\n",
      "regularization parameter=  2.7\n",
      "accuracy = 68.57541899441341 %\n"
     ]
    }
   ],
   "source": [
    "#run knn\n",
    "print('output with knn')\n",
    "\n",
    "starttime=time.time()\n",
    "accuracies=[]\n",
    "ks=np.arange(10,201)\n",
    "for i in ks:\n",
    "    Classifier=classify(x_train,y_train,1,i)\n",
    "    accuracies.append(test(Classifier,x_valid,y_valid))\n",
    "k=ks[accuracies.index(max(accuracies))]\n",
    "Classifier2=classify(x_train,y_train,1,k)\n",
    "print('running time =',time.time()-starttime,'sec')\n",
    "print('regularization parameter= ',c)\n",
    "print('accuracy =',test(Classifier2,x_valid,y_valid),'%')\n"
   ]
  },
  {
   "cell_type": "code",
   "execution_count": 10,
   "id": "be59ec68",
   "metadata": {
    "scrolled": true
   },
   "outputs": [],
   "source": [
    "def predictmulti(Classifier1,x_test,y):\n",
    "    numoflines={}\n",
    "    y_temp=[]\n",
    "    for i in img_names:\n",
    "        numoflines[i]=0\n",
    "\n",
    "\n",
    "    for i in img_names:\n",
    "        numoflines[i]+=1\n",
    "    s=0\n",
    "    results=[]\n",
    "    times=[]\n",
    "    for i in numoflines.values():\n",
    "        starttime=time.time()\n",
    "        y_pred=predict(Classifier1,x_test[s:i+s])\n",
    "        y_temp.append(y[s])\n",
    "        times.append(time.time()-starttime)\n",
    "        s=i\n",
    "        results.append(int(np.round(np.mean(y_pred))))\n",
    "    \n",
    "    y_temp=np.array(y_temp).astype('int')\n",
    "    f = open(\"result.txt\", \"w\")\n",
    "    f2=open(\"time.txt\",\"w\")\n",
    "    for i in results:\n",
    "        f.write(str(i))\n",
    "        f.write('\\n')\n",
    "    f.close()\n",
    "    for i in times:\n",
    "        f2.write(str(i))\n",
    "        f2.write('\\n')\n",
    "    f2.close()\n",
    "    print(np.mean(y_temp==results)*100)"
   ]
  },
  {
   "cell_type": "code",
   "execution_count": 13,
   "id": "1256049e",
   "metadata": {
    "scrolled": true
   },
   "outputs": [
    {
     "name": "stdout",
     "output_type": "stream",
     "text": [
      "85.51236749116607\n"
     ]
    }
   ],
   "source": [
    "predictmulti(Classifier1,x_test,y_test)"
   ]
  },
  {
   "cell_type": "code",
   "execution_count": 1,
   "id": "2231bb80",
   "metadata": {},
   "outputs": [],
   "source": [
    "def predictforevauation(Classifier1,x_test):\n",
    "    numoflines={}\n",
    "    for i in img_names:\n",
    "        numoflines[i]=0\n",
    "\n",
    "\n",
    "    for i in img_names:\n",
    "        numoflines[i]+=1\n",
    "    s=0\n",
    "    results=[]\n",
    "    times=[]\n",
    "    for i in numoflines.values():\n",
    "        starttime=time.time()\n",
    "        y_pred=predict(Classifier1,x_test[s:i+s])\n",
    "        times.append(time.time()-starttime)\n",
    "        s=i\n",
    "        results.append(int(np.round(np.mean(y_pred))))\n",
    "    \n",
    "    f = open(\"result.txt\", \"w\")\n",
    "    f2=open(\"time.txt\",\"w\")\n",
    "    for i in results:\n",
    "        f.write(str(i))\n",
    "        f.write('\\n')\n",
    "    f.close()\n",
    "    for i in times:\n",
    "        f2.write(str(i))\n",
    "        f2.write('\\n')\n",
    "    f2.close()"
   ]
  },
  {
   "cell_type": "code",
   "execution_count": null,
   "id": "7c075b8b",
   "metadata": {},
   "outputs": [],
   "source": []
  }
 ],
 "metadata": {
  "kernelspec": {
   "display_name": "Python 3",
   "language": "python",
   "name": "python3"
  },
  "language_info": {
   "codemirror_mode": {
    "name": "ipython",
    "version": 3
   },
   "file_extension": ".py",
   "mimetype": "text/x-python",
   "name": "python",
   "nbconvert_exporter": "python",
   "pygments_lexer": "ipython3",
   "version": "3.8.8"
  }
 },
 "nbformat": 4,
 "nbformat_minor": 5
}
