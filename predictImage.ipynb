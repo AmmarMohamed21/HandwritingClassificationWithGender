{
 "cells": [
  {
   "cell_type": "code",
   "execution_count": 1,
   "metadata": {},
   "outputs": [],
   "source": [
    "from preprocess import *\n",
    "from COLD import * \n",
    "from LBP import * \n",
    "from HOG import *\n",
    "import pandas as pd"
   ]
  },
  {
   "cell_type": "code",
   "execution_count": 10,
   "metadata": {},
   "outputs": [],
   "source": [
    "imgName = 'M2.jpg'\n",
    "\n",
    "def predict(imgName):\n",
    "    linesTable = []\n",
    "    linesList = PreprocessImage(imgName,isPrediction=True)\n",
    "    for line in linesList:\n",
    "        coldHist = ColdFeature(line)\n",
    "        lbpHist = extract_lbp(line)\n",
    "        hogHist = calculateHOG(line)\n",
    "        dataValues = [imgName]\n",
    "        dataValues.extend(coldHist)\n",
    "        dataValues.extend(lbpHist)\n",
    "        dataValues.extend(hogHist)\n",
    "        linesTable.append(dataValues)\n",
    "\n",
    "    COLDLabels = ['COLD_'+str(i) for i in range(100)]\n",
    "    LBPLabels = ['LBP_'+str(i) for i in range(256)]\n",
    "    HOGLabels = ['HOG_'+str(i) for i in range(144)]\n",
    "    labels = ['ImgName']\n",
    "    labels.extend(COLDLabels)\n",
    "    labels.extend(LBPLabels)\n",
    "    labels.extend(HOGLabels)\n",
    "\n",
    "    linesTable = np.array(linesTable)\n",
    "    df = pd.DataFrame(data=linesTable,columns=labels)\n",
    "\n",
    "    #remove columns not found in the normal dataset\n",
    "    mainDataset=pd.read_csv('Dataset.csv')\n",
    "\n",
    "    for col in df:\n",
    "        if not col in mainDataset.columns:\n",
    "            df=df.drop(columns=[col])\n",
    "\n",
    "    #UNCOMMENT THIS FOR NORMALIZATION\n",
    "    for column in df: \n",
    "        if column != 'Gender' and column != 'ImgName':\n",
    "            df[column] = df[column].astype(float)\n",
    "\n",
    "    # #Calculate standard normalization\n",
    "    # for column in df:\n",
    "    #     if column != 'Gender' and column != 'ImgName':\n",
    "    #         df[column] = (df[column] -\n",
    "    #                            df[column].mean()) / df[column].std()\n",
    "\n",
    "\n",
    "    #Classify here\n"
   ]
  },
  {
   "cell_type": "code",
   "execution_count": null,
   "metadata": {},
   "outputs": [],
   "source": []
  }
 ],
 "metadata": {
  "interpreter": {
   "hash": "147b12775c70782a669c3e17562f6ad8d6ea3b756fee47049a2c9ad2cf2390b4"
  },
  "kernelspec": {
   "display_name": "Python 3.9.7 ('base')",
   "language": "python",
   "name": "python3"
  },
  "language_info": {
   "codemirror_mode": {
    "name": "ipython",
    "version": 3
   },
   "file_extension": ".py",
   "mimetype": "text/x-python",
   "name": "python",
   "nbconvert_exporter": "python",
   "pygments_lexer": "ipython3",
   "version": "3.9.7"
  },
  "orig_nbformat": 4
 },
 "nbformat": 4,
 "nbformat_minor": 2
}
