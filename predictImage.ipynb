{
 "cells": [
  {
   "cell_type": "code",
   "execution_count": 1,
   "metadata": {},
   "outputs": [],
   "source": [
    "from preprocess import *\n",
    "from COLD import * \n",
    "from LBP import * \n",
    "from HOG import *\n",
    "import pandas as pd"
   ]
  },
  {
   "cell_type": "code",
   "execution_count": 2,
   "metadata": {},
   "outputs": [],
   "source": [
    "mainDataset=pd.read_csv('NonNormalized.csv')\n",
    "featuresData=mainDataset.iloc[:,3:]\n",
    "mean = featuresData.mean()\n",
    "std = featuresData.std()\n",
    "\n",
    "def predict(imgName):\n",
    "    linesTable = []\n",
    "    linesList = PreprocessImage(imgName,isPrediction=True)\n",
    "    for line in linesList:\n",
    "        coldHist = ColdFeature(line)\n",
    "        lbpHist = extract_lbp(line)\n",
    "        hogHist = calculateHOG(line)\n",
    "        dataValues = [imgName]\n",
    "        dataValues.extend(coldHist)\n",
    "        dataValues.extend(lbpHist)\n",
    "        dataValues.extend(hogHist)\n",
    "        linesTable.append(dataValues)\n",
    "\n",
    "    COLDLabels = ['COLD_'+str(i) for i in range(100)]\n",
    "    LBPLabels = ['LBP_'+str(i) for i in range(256)]\n",
    "    HOGLabels = ['HOG_'+str(i) for i in range(144)]\n",
    "    labels = ['ImgName']\n",
    "    labels.extend(COLDLabels)\n",
    "    labels.extend(LBPLabels)\n",
    "    labels.extend(HOGLabels)\n",
    "\n",
    "    linesTable = np.array(linesTable)\n",
    "    df = pd.DataFrame(data=linesTable,columns=labels)\n",
    "\n",
    "    for column in df: \n",
    "        if column != 'Gender' and column != 'ImgName':\n",
    "            df[column] = df[column].astype(float)\n",
    "\n",
    "    #remove columns not found in the normal dataset\n",
    "    for col in df:\n",
    "        if not col in mainDataset.columns:\n",
    "            df=df.drop(columns=[col])\n",
    "\n",
    "    #Calculate standard normalization\n",
    "    df.iloc[:,1:] = df.iloc[:,1:] - mean / std\n",
    "\n",
    "\n",
    "    df.to_csv('test.csv')\n",
    "    #Classify here\n"
   ]
  },
  {
   "cell_type": "code",
   "execution_count": 6,
   "metadata": {},
   "outputs": [],
   "source": [
    "predict('M229.jpg')"
   ]
  },
  {
   "cell_type": "code",
   "execution_count": null,
   "metadata": {},
   "outputs": [],
   "source": []
  }
 ],
 "metadata": {
  "interpreter": {
   "hash": "147b12775c70782a669c3e17562f6ad8d6ea3b756fee47049a2c9ad2cf2390b4"
  },
  "kernelspec": {
   "display_name": "Python 3.9.7 ('base')",
   "language": "python",
   "name": "python3"
  },
  "language_info": {
   "codemirror_mode": {
    "name": "ipython",
    "version": 3
   },
   "file_extension": ".py",
   "mimetype": "text/x-python",
   "name": "python",
   "nbconvert_exporter": "python",
   "pygments_lexer": "ipython3",
   "version": "3.9.7"
  },
  "orig_nbformat": 4
 },
 "nbformat": 4,
 "nbformat_minor": 2
}
