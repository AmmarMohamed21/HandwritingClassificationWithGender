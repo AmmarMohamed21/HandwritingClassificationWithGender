{
 "cells": [
  {
   "cell_type": "code",
   "execution_count": null,
   "metadata": {},
   "outputs": [],
   "source": [
    "import numpy as np\n",
    "import os\n",
    "from skimage import io\n",
    "import pandas as pd\n",
    "from COLD import * \n",
    "from LBP import * \n",
    "from HOG import *"
   ]
  },
  {
   "cell_type": "code",
   "execution_count": null,
   "metadata": {},
   "outputs": [],
   "source": [
    "malesDirectory = 'preprocessed/Males'\n",
    "femalesDirectory = 'preprocessed/Females'\n",
    "\n",
    "featuresTable = []\n",
    "for imgPath in os.listdir(malesDirectory):\n",
    "    img = io.imread(malesDirectory+'/'+imgPath)\n",
    "    cold_r,cold_theta,cold_distances,cold_pca_slope = ColdFeature(img)\n",
    "    lbpHist = extract_lbp(img).flatten().tolist()\n",
    "    hogfeature = calculateHOG(img)\n",
    "    if not math.isnan(cold_distances):\n",
    "        dataValues = [1,hogfeature, cold_r,cold_theta,cold_distances,cold_pca_slope]\n",
    "        dataValues.extend(lbpHist)\n",
    "        featuresTable.append(dataValues)\n",
    "\n",
    "\n",
    "for imgPath in os.listdir(femalesDirectory):\n",
    "    img = io.imread(femalesDirectory+'/'+imgPath)\n",
    "    cold_r,cold_theta,cold_distances,cold_pca_slope = ColdFeature(img)\n",
    "    lbpHist = extract_lbp(img).flatten().tolist()\n",
    "    hogfeature = calculateHOG(img)\n",
    "    if not math.isnan(cold_distances):\n",
    "        dataValues = [0,hogfeature, cold_r,cold_theta,cold_distances,cold_pca_slope]\n",
    "        dataValues.extend(lbpHist)\n",
    "        featuresTable.append(dataValues)\n",
    "\n",
    "LBPLabels = ['LBP_HIST_'+str(i) for i in range(25)]\n",
    "labels = ['Gender', 'HOG', 'COLD_AVG_R','COLD_AVG_Theta' ,'COLD_AVG_Distances','COLD_PCA_SLOPE']\n",
    "labels.extend(LBPLabels)\n",
    "featuresTable = np.array(featuresTable)\n",
    "df = pd.DataFrame(data=featuresTable,columns=labels)\n",
    "\n",
    "#Standard Normalization\n",
    "\n",
    "#Remove columns where std = 0 (for lbp)\n",
    "df = df.loc[:, (df != 0).any(axis=0)]\n",
    "\n",
    "#Calculate standard normalization\n",
    "for column in df:\n",
    "    if column != 'Gender':\n",
    "        df[column] = (df[column] -\n",
    "                           df[column].mean()) / df[column].std()\n",
    "df.to_csv('dataset.csv')"
   ]
  }
 ],
 "metadata": {
  "interpreter": {
   "hash": "147b12775c70782a669c3e17562f6ad8d6ea3b756fee47049a2c9ad2cf2390b4"
  },
  "kernelspec": {
   "display_name": "Python 3.9.7 ('base')",
   "language": "python",
   "name": "python3"
  },
  "language_info": {
   "codemirror_mode": {
    "name": "ipython",
    "version": 3
   },
   "file_extension": ".py",
   "mimetype": "text/x-python",
   "name": "python",
   "nbconvert_exporter": "python",
   "pygments_lexer": "ipython3",
   "version": "3.9.7"
  },
  "orig_nbformat": 4
 },
 "nbformat": 4,
 "nbformat_minor": 2
}
