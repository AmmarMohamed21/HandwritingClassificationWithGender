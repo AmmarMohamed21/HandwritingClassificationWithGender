{
 "cells": [
  {
   "cell_type": "code",
   "execution_count": 2,
   "metadata": {},
   "outputs": [],
   "source": [
    "import numpy as np\n",
    "import os\n",
    "from skimage import io\n",
    "import pandas as pd\n",
    "from COLD import * \n",
    "from LBP import * \n",
    "from HOG import *"
   ]
  },
  {
   "cell_type": "code",
   "execution_count": 3,
   "metadata": {},
   "outputs": [
    {
     "name": "stderr",
     "output_type": "stream",
     "text": [
      "d:\\CMP\\Neural\\HandwritingClassificationWithGender\\COLD.py:51: RuntimeWarning: invalid value encountered in double_scalars\n",
      "  distance = np.linalg.norm(np.cross(diff, X_rec[0]-point))/norm\n",
      "C:\\Users\\ammar\\AppData\\Local\\Temp/ipykernel_23976/727701746.py:20: VisibleDeprecationWarning: Creating an ndarray from ragged nested sequences (which is a list-or-tuple of lists-or-tuples-or ndarrays with different lengths or shapes) is deprecated. If you meant to do this, you must specify 'dtype=object' when creating the ndarray.\n",
      "  featuresTable = np.array(featuresTable)\n"
     ]
    }
   ],
   "source": [
    "malesDirectory = 'results/Males'\n",
    "femalesDirectory = 'results/Females'\n",
    "\n",
    "featuresTable = []\n",
    "for imgPath in os.listdir(malesDirectory):\n",
    "    img = io.imread(malesDirectory+'/'+imgPath)\n",
    "    cold_r,cold_theta,cold_distances = ColdFeature(img)\n",
    "    lbp = extract_lbp(img)\n",
    "    hogfeature = calculateHOG(img)\n",
    "    if not math.isnan(cold_distances):\n",
    "        featuresTable.append(['Males'+imgPath, lbp, hogfeature, cold_r,cold_theta,cold_distances,1])\n",
    "\n",
    "\n",
    "for imgPath in os.listdir(femalesDirectory):\n",
    "    img = io.imread(femalesDirectory+'/'+imgPath)\n",
    "    cold_r,cold_theta,cold_distances = ColdFeature(img)\n",
    "    lbp = extract_lbp(img)\n",
    "    hogfeature = calculateHOG(img)\n",
    "    if not math.isnan(cold_distances):\n",
    "        featuresTable.append(['Females'+imgPath, lbp, hogfeature, cold_r,cold_theta,cold_distances,0])\n",
    "\n",
    "featuresTable = np.array(featuresTable)\n",
    "df = pd.DataFrame(data=featuresTable,columns=['Image', 'LBP', 'HOG', 'COLD_AVG_R','COLD_AVG_Theta' ,'COLD_AVG_Distances','Gender'])\n",
    "df.to_csv('dataset.csv')"
   ]
  },
  {
   "cell_type": "code",
   "execution_count": null,
   "metadata": {},
   "outputs": [],
   "source": []
  }
 ],
 "metadata": {
  "interpreter": {
   "hash": "147b12775c70782a669c3e17562f6ad8d6ea3b756fee47049a2c9ad2cf2390b4"
  },
  "kernelspec": {
   "display_name": "Python 3.9.7 ('base')",
   "language": "python",
   "name": "python3"
  },
  "language_info": {
   "codemirror_mode": {
    "name": "ipython",
    "version": 3
   },
   "file_extension": ".py",
   "mimetype": "text/x-python",
   "name": "python",
   "nbconvert_exporter": "python",
   "pygments_lexer": "ipython3",
   "version": "3.9.7"
  },
  "orig_nbformat": 4
 },
 "nbformat": 4,
 "nbformat_minor": 2
}
