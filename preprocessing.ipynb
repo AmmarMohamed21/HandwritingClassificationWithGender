{
 "cells": [
  {
   "cell_type": "code",
   "execution_count": 1,
   "metadata": {},
   "outputs": [],
   "source": [
    "from skimage import io, morphology\n",
    "from skimage.color import rgb2gray\n",
    "from matplotlib import pyplot as plt\n",
    "import numpy as np\n",
    "from skimage.transform import resize\n",
    "from skimage.filters import threshold_yen\n",
    "import cv2\n",
    "\n",
    "import os\n"
   ]
  },
  {
   "cell_type": "code",
   "execution_count": 2,
   "metadata": {},
   "outputs": [],
   "source": [
    "def ExtractLines(imgPath, img,targetDirectory):\n",
    "    img=img*255\n",
    "    img=img.astype('uint8')\n",
    "\n",
    "    #Finding line contours\n",
    "    kernel = np.ones((3, 50), np.uint8)\n",
    "    opening = cv2.morphologyEx(img, cv2.MORPH_OPEN, kernel)\n",
    "    contours, _ = cv2.findContours(opening, cv2.RETR_TREE, cv2.CHAIN_APPROX_SIMPLE)\n",
    "    index=1\n",
    "\n",
    "    #Crop line contours\n",
    "    for contour in contours:\n",
    "        [x,y,w,h] = cv2.boundingRect(contour)\n",
    "\n",
    "        if w < 270 or h<35 or h>60:\n",
    "            continue\n",
    "\n",
    "        # draw rectangle around contour on original image\n",
    "        #img=cv2.rectangle(img,(x,y),(x+w,y+h),55,2)\n",
    "\n",
    "        #you can crop image and send to OCR  , false detected will return no text :)\n",
    "        cropped = img[y :y +  h , x : x + w]\n",
    "\n",
    "        approxPoly = cv2.approxPolyDP(contour, 1, False)\n",
    "        approxPoly=approxPoly.reshape(approxPoly.shape[0],2)\n",
    "\n",
    "        s = 'image' + 'crop_' + str(index) + '.png'\n",
    "        cv2.imwrite(targetDirectory+imgPath+s , cropped)\n",
    "        index = index + 1"
   ]
  },
  {
   "cell_type": "code",
   "execution_count": 3,
   "metadata": {},
   "outputs": [],
   "source": [
    "def PreprocessImage(imgPath, index, targetDirectory):\n",
    "    img = io.imread(imgPath)\n",
    "    #img = img [50:img.shape[0]-100, 50:img.shape[1]-50]\n",
    "    #resize image\n",
    "    targetSize = (1240,800)\n",
    "    resizedimg = resize(img,targetSize)\n",
    "\n",
    "    #rgp to gray\n",
    "    grayimg = rgb2gray(resizedimg)\n",
    "\n",
    "    #gray to binary\n",
    "    threshold = threshold_yen(grayimg)\n",
    "    binaryImg = np.where(grayimg>threshold, 1,0)\n",
    "    #apply opening on image\n",
    "    openinigImage = morphology.opening(binaryImg)\n",
    "\n",
    "    #Remove large black areas\n",
    "    footprint=np.ones((10,10))\n",
    "    close = morphology.binary_closing(openinigImage, footprint)\n",
    "    inv = np.invert(close)\n",
    "    result=openinigImage+inv\n",
    "    \n",
    "    #Extract image lines\n",
    "    ExtractLines(str(index), result,targetDirectory)\n",
    "    \n",
    "    return\n",
    "\n",
    "    \n",
    "    \n"
   ]
  },
  {
   "cell_type": "code",
   "execution_count": 4,
   "metadata": {},
   "outputs": [],
   "source": [
    "#Preprocess CMP Dataset images\n",
    "malesDirectory = 'icdar/Males'\n",
    "femalesDirectory = 'icdar/Females'\n",
    "os.mkdir('preprocessedIcdar')\n",
    "os.mkdir('preprocessedIcdar/Males')\n",
    "os.mkdir('preprocessedIcdar/Females')\n",
    "\n",
    "malesTargetDirectory = 'preprocessedIcdar/Males/'\n",
    "index=1\n",
    "for imgPath in os.listdir(malesDirectory):\n",
    "    PreprocessImage(malesDirectory+'/'+imgPath, index, malesTargetDirectory)\n",
    "    index=index+1\n",
    "\n",
    "femalesTargetDirectory = 'preprocessedIcdar/Females/'\n",
    "index=1\n",
    "for imgPath in os.listdir(femalesDirectory):\n",
    "    PreprocessImage(femalesDirectory+'/'+imgPath, index, femalesTargetDirectory)\n",
    "    index=index+1\n",
    "    \n",
    "\n",
    "\n"
   ]
  }
 ],
 "metadata": {
  "interpreter": {
   "hash": "147b12775c70782a669c3e17562f6ad8d6ea3b756fee47049a2c9ad2cf2390b4"
  },
  "kernelspec": {
   "display_name": "Python 3.9.7 ('base')",
   "language": "python",
   "name": "python3"
  },
  "language_info": {
   "codemirror_mode": {
    "name": "ipython",
    "version": 3
   },
   "file_extension": ".py",
   "mimetype": "text/x-python",
   "name": "python",
   "nbconvert_exporter": "python",
   "pygments_lexer": "ipython3",
   "version": "3.9.7"
  },
  "orig_nbformat": 4
 },
 "nbformat": 4,
 "nbformat_minor": 2
}
